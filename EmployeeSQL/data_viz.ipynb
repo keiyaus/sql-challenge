{
 "cells": [
  {
   "cell_type": "code",
   "execution_count": 1,
   "metadata": {},
   "outputs": [],
   "source": [
    "# Set dependencies\n",
    "import pandas as pd\n",
    "import matplotlib.pyplot as plt\n",
    "from sqlalchemy import create_engine\n",
    "\n",
    "# import psycopg2\n",
    "# import sys, os\n",
    "# import config as creds\n",
    "# import pandas.io.sql as psql\n",
    "\n",
    "# Import necessary keys\n",
    "from config import pghost\n",
    "from config import pgport\n",
    "from config import pguser\n",
    "from config import pgpwd"
   ]
  },
  {
   "cell_type": "code",
   "execution_count": 2,
   "metadata": {},
   "outputs": [],
   "source": [
    "# Connect with postgres server\n",
    "engine = create_engine(f'postgresql://{pguser}:{pgpwd}@{pghost}:{pgport}/postgres')\n",
    "connection = engine.connect()"
   ]
  },
  {
   "cell_type": "code",
   "execution_count": 3,
   "metadata": {},
   "outputs": [],
   "source": [
    "# Load data into dataframe\n",
    "\n",
    "# (\"select * from \\\"StudentScores\\\"\", dbConnection)\n",
    "\n",
    "salary = pd.read_sql(\n",
    "    \"SELECT e.emp_no, e.emp_title_id, s.salary, t.title \\\n",
    "    FROM employees AS e \\\n",
    "    INNER JOIN salaries AS s \\\n",
    "    ON e.emp_no = s.emp_no \\\n",
    "    INNER JOIN titles as t \\\n",
    "    ON e.emp_title_id = t.title_id\", connection)"
   ]
  },
  {
   "cell_type": "code",
   "execution_count": 4,
   "metadata": {},
   "outputs": [
    {
     "data": {
      "text/html": [
       "<div>\n",
       "<style scoped>\n",
       "    .dataframe tbody tr th:only-of-type {\n",
       "        vertical-align: middle;\n",
       "    }\n",
       "\n",
       "    .dataframe tbody tr th {\n",
       "        vertical-align: top;\n",
       "    }\n",
       "\n",
       "    .dataframe thead th {\n",
       "        text-align: right;\n",
       "    }\n",
       "</style>\n",
       "<table border=\"1\" class=\"dataframe\">\n",
       "  <thead>\n",
       "    <tr style=\"text-align: right;\">\n",
       "      <th></th>\n",
       "      <th>emp_no</th>\n",
       "      <th>emp_title_id</th>\n",
       "      <th>salary</th>\n",
       "      <th>title</th>\n",
       "    </tr>\n",
       "  </thead>\n",
       "  <tbody>\n",
       "    <tr>\n",
       "      <th>0</th>\n",
       "      <td>57444</td>\n",
       "      <td>e0002</td>\n",
       "      <td>48973</td>\n",
       "      <td>Engineer</td>\n",
       "    </tr>\n",
       "    <tr>\n",
       "      <th>1</th>\n",
       "      <td>13616</td>\n",
       "      <td>e0003</td>\n",
       "      <td>40000</td>\n",
       "      <td>Senior Engineer</td>\n",
       "    </tr>\n",
       "    <tr>\n",
       "      <th>2</th>\n",
       "      <td>240129</td>\n",
       "      <td>e0004</td>\n",
       "      <td>43548</td>\n",
       "      <td>Technique Leader</td>\n",
       "    </tr>\n",
       "    <tr>\n",
       "      <th>3</th>\n",
       "      <td>427958</td>\n",
       "      <td>s0001</td>\n",
       "      <td>63377</td>\n",
       "      <td>Staff</td>\n",
       "    </tr>\n",
       "    <tr>\n",
       "      <th>4</th>\n",
       "      <td>35916</td>\n",
       "      <td>e0003</td>\n",
       "      <td>40000</td>\n",
       "      <td>Senior Engineer</td>\n",
       "    </tr>\n",
       "  </tbody>\n",
       "</table>\n",
       "</div>"
      ],
      "text/plain": [
       "   emp_no emp_title_id  salary             title\n",
       "0   57444        e0002   48973          Engineer\n",
       "1   13616        e0003   40000   Senior Engineer\n",
       "2  240129        e0004   43548  Technique Leader\n",
       "3  427958        s0001   63377             Staff\n",
       "4   35916        e0003   40000   Senior Engineer"
      ]
     },
     "execution_count": 4,
     "metadata": {},
     "output_type": "execute_result"
    }
   ],
   "source": [
    "# View dataframe\n",
    "salary.head()"
   ]
  },
  {
   "cell_type": "code",
   "execution_count": 6,
   "metadata": {},
   "outputs": [
    {
     "data": {
      "image/png": "[encoded data removed]",
      "text/plain": [
       "<Figure size 432x288 with 1 Axes>"
      ]
     },
     "metadata": {
      "needs_background": "light"
     },
     "output_type": "display_data"
    }
   ],
   "source": [
    "# Create a histogram to view the distribution of salary across four bins\n",
    "x = salary['salary']\n",
    "bins = 4\n",
    "\n",
    "n, bins, patches = plt.hist(x, bins, facecolor='darkcyan')\n",
    "plt.title(\"Common Salary Ranges\")\n",
    "plt.xlabel(\"Salary ($)\")\n",
    "plt.ylabel(\"Number of Employees\")\n",
    "plt.savefig(\"images/salary_ranges.png\")\n",
    "plt.show()"
   ]
  },
  {
   "cell_type": "code",
   "execution_count": 20,
   "metadata": {},
   "outputs": [
    {
     "name": "stdout",
     "output_type": "stream",
     "text": [
      "Minimum salary: 40000\n",
      "Maximum salary: 129492\n"
     ]
    }
   ],
   "source": [
    "# Check the max and min salary\n",
    "min = salary['salary'].min()\n",
    "max = salary['salary'].max()\n",
    "\n",
    "print(f'Minimum salary: {min}')\n",
    "print(f'Maximum salary: {max}')"
   ]
  },
  {
   "cell_type": "code",
   "execution_count": 24,
   "metadata": {},
   "outputs": [],
   "source": [
    "# Create 4 bins in which to place values based on salary\n",
    "bins = [39999, 62499, 84999, 107499, 130000]\n",
    "\n",
    "# Label these bins\n",
    "labels = ['40,000-62,499', '62,500-84,999', '85,000-107,499', '107,500-130,000']"
   ]
  },
  {
   "cell_type": "code",
   "execution_count": 25,
   "metadata": {},
   "outputs": [
    {
     "data": {
      "text/plain": [
       "0    40,000-62,499\n",
       "1    40,000-62,499\n",
       "2    40,000-62,499\n",
       "3    62,500-84,999\n",
       "4    40,000-62,499\n",
       "Name: salary, dtype: category\n",
       "Categories (4, object): [40,000-62,499 < 62,500-84,999 < 85,000-107,499 < 107,500-130,000]"
      ]
     },
     "execution_count": 25,
     "metadata": {},
     "output_type": "execute_result"
    }
   ],
   "source": [
    "# Slice the data and place it into bins\n",
    "pd.cut(salary['salary'], bins, labels=labels).head()"
   ]
  },
  {
   "cell_type": "code",
   "execution_count": 26,
   "metadata": {},
   "outputs": [
    {
     "data": {
      "text/html": [
       "<div>\n",
       "<style scoped>\n",
       "    .dataframe tbody tr th:only-of-type {\n",
       "        vertical-align: middle;\n",
       "    }\n",
       "\n",
       "    .dataframe tbody tr th {\n",
       "        vertical-align: top;\n",
       "    }\n",
       "\n",
       "    .dataframe thead th {\n",
       "        text-align: right;\n",
       "    }\n",
       "</style>\n",
       "<table border=\"1\" class=\"dataframe\">\n",
       "  <thead>\n",
       "    <tr style=\"text-align: right;\">\n",
       "      <th></th>\n",
       "      <th>emp_no</th>\n",
       "      <th>emp_title_id</th>\n",
       "      <th>salary</th>\n",
       "      <th>title</th>\n",
       "      <th>salary_range</th>\n",
       "    </tr>\n",
       "  </thead>\n",
       "  <tbody>\n",
       "    <tr>\n",
       "      <th>0</th>\n",
       "      <td>57444</td>\n",
       "      <td>e0002</td>\n",
       "      <td>48973</td>\n",
       "      <td>Engineer</td>\n",
       "      <td>40,000-62,499</td>\n",
       "    </tr>\n",
       "    <tr>\n",
       "      <th>1</th>\n",
       "      <td>13616</td>\n",
       "      <td>e0003</td>\n",
       "      <td>40000</td>\n",
       "      <td>Senior Engineer</td>\n",
       "      <td>40,000-62,499</td>\n",
       "    </tr>\n",
       "    <tr>\n",
       "      <th>2</th>\n",
       "      <td>240129</td>\n",
       "      <td>e0004</td>\n",
       "      <td>43548</td>\n",
       "      <td>Technique Leader</td>\n",
       "      <td>40,000-62,499</td>\n",
       "    </tr>\n",
       "    <tr>\n",
       "      <th>3</th>\n",
       "      <td>427958</td>\n",
       "      <td>s0001</td>\n",
       "      <td>63377</td>\n",
       "      <td>Staff</td>\n",
       "      <td>62,500-84,999</td>\n",
       "    </tr>\n",
       "    <tr>\n",
       "      <th>4</th>\n",
       "      <td>35916</td>\n",
       "      <td>e0003</td>\n",
       "      <td>40000</td>\n",
       "      <td>Senior Engineer</td>\n",
       "      <td>40,000-62,499</td>\n",
       "    </tr>\n",
       "  </tbody>\n",
       "</table>\n",
       "</div>"
      ],
      "text/plain": [
       "   emp_no emp_title_id  salary             title   salary_range\n",
       "0   57444        e0002   48973          Engineer  40,000-62,499\n",
       "1   13616        e0003   40000   Senior Engineer  40,000-62,499\n",
       "2  240129        e0004   43548  Technique Leader  40,000-62,499\n",
       "3  427958        s0001   63377             Staff  62,500-84,999\n",
       "4   35916        e0003   40000   Senior Engineer  40,000-62,499"
      ]
     },
     "execution_count": 26,
     "metadata": {},
     "output_type": "execute_result"
    }
   ],
   "source": [
    "# Place the data series into a new column inside of dataframe\n",
    "salary['salary_range']=pd.cut(salary['salary'], bins, labels=labels)\n",
    "salary.head()"
   ]
  },
  {
   "cell_type": "code",
   "execution_count": 33,
   "metadata": {},
   "outputs": [
    {
     "data": {
      "text/plain": [
       "[228471, 61338, 9863, 352]"
      ]
     },
     "execution_count": 33,
     "metadata": {},
     "output_type": "execute_result"
    }
   ],
   "source": [
    "# Create a GroupBy object based upon salary_range\n",
    "salary_new = salary.groupby('salary_range')\n",
    "\n",
    "# Store frequencies of occurences to list\n",
    "salary_count = salary_new['emp_no'].count().values.tolist()"
   ]
  },
  {
   "cell_type": "code",
   "execution_count": null,
   "metadata": {},
   "outputs": [],
   "source": []
  }
 ],
 "metadata": {
  "kernelspec": {
   "display_name": "Python 3.6.10 64-bit ('PythonData': conda)",
   "language": "python",
   "name": "python361064bitpythondatacondaa7edf1711d444c1ba5496cfbae192996"
  },
  "language_info": {
   "codemirror_mode": {
    "name": "ipython",
    "version": 3
   },
   "file_extension": ".py",
   "mimetype": "text/x-python",
   "name": "python",
   "nbconvert_exporter": "python",
   "pygments_lexer": "ipython3",
   "version": "3.6.10"
  }
 },
 "nbformat": 4,
 "nbformat_minor": 4
}
