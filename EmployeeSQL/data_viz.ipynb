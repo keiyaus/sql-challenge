{
 "cells": [
  {
   "cell_type": "code",
   "execution_count": 1,
   "metadata": {},
   "outputs": [],
   "source": [
    "# Set dependencies\n",
    "import pandas as pd\n",
    "import matplotlib.pyplot as plt\n",
    "from sqlalchemy import create_engine\n",
    "\n",
    "# Import necessary keys/info\n",
    "from config import pghost\n",
    "from config import pgport\n",
    "from config import pguser\n",
    "from config import pgpwd"
   ]
  },
  {
   "cell_type": "code",
   "execution_count": 2,
   "metadata": {},
   "outputs": [],
   "source": [
    "# Connect with postgres server\n",
    "engine = create_engine(f'postgresql://{pguser}:{pgpwd}@{pghost}:{pgport}/postgres')\n",
    "connection = engine.connect()"
   ]
  },
  {
   "cell_type": "code",
   "execution_count": 3,
   "metadata": {},
   "outputs": [],
   "source": [
    "# Load data into dataframe\n",
    "salary = pd.read_sql(\n",
    "    \"SELECT * \\\n",
    "    FROM employees AS e \\\n",
    "    INNER JOIN salaries AS s \\\n",
    "    ON e.emp_no = s.emp_no \\\n",
    "    INNER JOIN titles as t \\\n",
    "    ON e.emp_title_id = t.title_id\", connection)"
   ]
  },
  {
   "cell_type": "code",
   "execution_count": 4,
   "metadata": {},
   "outputs": [
    {
     "data": {
      "text/html": [
       "<div>\n",
       "<style scoped>\n",
       "    .dataframe tbody tr th:only-of-type {\n",
       "        vertical-align: middle;\n",
       "    }\n",
       "\n",
       "    .dataframe tbody tr th {\n",
       "        vertical-align: top;\n",
       "    }\n",
       "\n",
       "    .dataframe thead th {\n",
       "        text-align: right;\n",
       "    }\n",
       "</style>\n",
       "<table border=\"1\" class=\"dataframe\">\n",
       "  <thead>\n",
       "    <tr style=\"text-align: right;\">\n",
       "      <th></th>\n",
       "      <th>emp_no</th>\n",
       "      <th>emp_title_id</th>\n",
       "      <th>birth_date</th>\n",
       "      <th>first_name</th>\n",
       "      <th>last_name</th>\n",
       "      <th>sex</th>\n",
       "      <th>hire_date</th>\n",
       "      <th>emp_no</th>\n",
       "      <th>salary</th>\n",
       "      <th>title_id</th>\n",
       "      <th>title</th>\n",
       "    </tr>\n",
       "  </thead>\n",
       "  <tbody>\n",
       "    <tr>\n",
       "      <th>0</th>\n",
       "      <td>57444</td>\n",
       "      <td>e0002</td>\n",
       "      <td>1958-01-30</td>\n",
       "      <td>Berry</td>\n",
       "      <td>Babb</td>\n",
       "      <td>F</td>\n",
       "      <td>1992-03-21</td>\n",
       "      <td>57444</td>\n",
       "      <td>48973</td>\n",
       "      <td>e0002</td>\n",
       "      <td>Engineer</td>\n",
       "    </tr>\n",
       "    <tr>\n",
       "      <th>1</th>\n",
       "      <td>13616</td>\n",
       "      <td>e0003</td>\n",
       "      <td>1961-08-30</td>\n",
       "      <td>Perry</td>\n",
       "      <td>Lorho</td>\n",
       "      <td>F</td>\n",
       "      <td>1991-08-03</td>\n",
       "      <td>13616</td>\n",
       "      <td>40000</td>\n",
       "      <td>e0003</td>\n",
       "      <td>Senior Engineer</td>\n",
       "    </tr>\n",
       "    <tr>\n",
       "      <th>2</th>\n",
       "      <td>240129</td>\n",
       "      <td>e0004</td>\n",
       "      <td>1952-08-11</td>\n",
       "      <td>Roddy</td>\n",
       "      <td>Karnin</td>\n",
       "      <td>M</td>\n",
       "      <td>1985-05-29</td>\n",
       "      <td>240129</td>\n",
       "      <td>43548</td>\n",
       "      <td>e0004</td>\n",
       "      <td>Technique Leader</td>\n",
       "    </tr>\n",
       "    <tr>\n",
       "      <th>3</th>\n",
       "      <td>427958</td>\n",
       "      <td>s0001</td>\n",
       "      <td>1957-05-03</td>\n",
       "      <td>Feixiong</td>\n",
       "      <td>Poujol</td>\n",
       "      <td>F</td>\n",
       "      <td>1985-05-11</td>\n",
       "      <td>427958</td>\n",
       "      <td>63377</td>\n",
       "      <td>s0001</td>\n",
       "      <td>Staff</td>\n",
       "    </tr>\n",
       "    <tr>\n",
       "      <th>4</th>\n",
       "      <td>35916</td>\n",
       "      <td>e0003</td>\n",
       "      <td>1953-08-15</td>\n",
       "      <td>Wonhee</td>\n",
       "      <td>Talmon</td>\n",
       "      <td>F</td>\n",
       "      <td>1985-03-20</td>\n",
       "      <td>35916</td>\n",
       "      <td>40000</td>\n",
       "      <td>e0003</td>\n",
       "      <td>Senior Engineer</td>\n",
       "    </tr>\n",
       "  </tbody>\n",
       "</table>\n",
       "</div>"
      ],
      "text/plain": [
       "   emp_no emp_title_id  birth_date first_name last_name sex   hire_date  \\\n",
       "0   57444        e0002  1958-01-30      Berry      Babb   F  1992-03-21   \n",
       "1   13616        e0003  1961-08-30      Perry     Lorho   F  1991-08-03   \n",
       "2  240129        e0004  1952-08-11      Roddy    Karnin   M  1985-05-29   \n",
       "3  427958        s0001  1957-05-03   Feixiong    Poujol   F  1985-05-11   \n",
       "4   35916        e0003  1953-08-15     Wonhee    Talmon   F  1985-03-20   \n",
       "\n",
       "   emp_no  salary title_id             title  \n",
       "0   57444   48973    e0002          Engineer  \n",
       "1   13616   40000    e0003   Senior Engineer  \n",
       "2  240129   43548    e0004  Technique Leader  \n",
       "3  427958   63377    s0001             Staff  \n",
       "4   35916   40000    e0003   Senior Engineer  "
      ]
     },
     "execution_count": 4,
     "metadata": {},
     "output_type": "execute_result"
    }
   ],
   "source": [
    "# View dataframe\n",
    "salary.head()"
   ]
  },
  {
   "cell_type": "code",
   "execution_count": 5,
   "metadata": {},
   "outputs": [
    {
     "data": {
      "image/png": "[encoded data removed]",
      "text/plain": [
       "<Figure size 432x288 with 1 Axes>"
      ]
     },
     "metadata": {
      "needs_background": "light"
     },
     "output_type": "display_data"
    }
   ],
   "source": [
    "# Create a histogram to view the distribution of salary across ten bins\n",
    "x = salary['salary']\n",
    "bins = 10\n",
    "\n",
    "n, bins, patches = plt.hist(x, bins, facecolor='darkcyan')\n",
    "plt.title(\"Common Salary Ranges\")\n",
    "plt.xlabel(\"Salary ($)\")\n",
    "plt.ylabel(\"Number of Employees\")\n",
    "plt.savefig(\"images/salary_ranges.png\")\n",
    "plt.show()"
   ]
  },
  {
   "cell_type": "code",
   "execution_count": 6,
   "metadata": {},
   "outputs": [
    {
     "data": {
      "text/plain": [
       "title\n",
       "Assistant Engineer    48564.434447\n",
       "Engineer              48535.336511\n",
       "Manager               51531.041667\n",
       "Senior Engineer       48506.799871\n",
       "Senior Staff          58550.172704\n",
       "Staff                 58465.382850\n",
       "Technique Leader      48582.896092\n",
       "Name: salary, dtype: float64"
      ]
     },
     "execution_count": 6,
     "metadata": {},
     "output_type": "execute_result"
    }
   ],
   "source": [
    "# Query average salary data for each title \n",
    "avg_salary = salary.groupby('title')['salary'].mean()\n",
    "avg_salary"
   ]
  },
  {
   "cell_type": "code",
   "execution_count": 9,
   "metadata": {},
   "outputs": [
    {
     "data": {
      "image/png": "[encoded data removed]",
      "text/plain": [
       "<Figure size 432x288 with 1 Axes>"
      ]
     },
     "metadata": {
      "needs_background": "light"
     },
     "output_type": "display_data"
    }
   ],
   "source": [
    "# Create bar chart showing average salary by title\n",
    "avg_salary.plot.bar(color='darkcyan')\n",
    "plt.title('Average Salary by Title')\n",
    "plt.ylabel('Salary ($)')\n",
    "plt.savefig(\"images/average_salary.png\")"
   ]
  },
  {
   "cell_type": "code",
   "execution_count": 8,
   "metadata": {},
   "outputs": [
    {
     "data": {
      "text/html": [
       "<div>\n",
       "<style scoped>\n",
       "    .dataframe tbody tr th:only-of-type {\n",
       "        vertical-align: middle;\n",
       "    }\n",
       "\n",
       "    .dataframe tbody tr th {\n",
       "        vertical-align: top;\n",
       "    }\n",
       "\n",
       "    .dataframe thead th {\n",
       "        text-align: right;\n",
       "    }\n",
       "</style>\n",
       "<table border=\"1\" class=\"dataframe\">\n",
       "  <thead>\n",
       "    <tr style=\"text-align: right;\">\n",
       "      <th></th>\n",
       "      <th>emp_no</th>\n",
       "      <th>emp_title_id</th>\n",
       "      <th>birth_date</th>\n",
       "      <th>first_name</th>\n",
       "      <th>last_name</th>\n",
       "      <th>sex</th>\n",
       "      <th>hire_date</th>\n",
       "      <th>emp_no</th>\n",
       "      <th>salary</th>\n",
       "      <th>title_id</th>\n",
       "      <th>title</th>\n",
       "    </tr>\n",
       "  </thead>\n",
       "  <tbody>\n",
       "    <tr>\n",
       "      <th>42305</th>\n",
       "      <td>499942</td>\n",
       "      <td>e0004</td>\n",
       "      <td>1963-01-10</td>\n",
       "      <td>April</td>\n",
       "      <td>Foolsday</td>\n",
       "      <td>F</td>\n",
       "      <td>1997-02-10</td>\n",
       "      <td>499942</td>\n",
       "      <td>40000</td>\n",
       "      <td>e0004</td>\n",
       "      <td>Technique Leader</td>\n",
       "    </tr>\n",
       "  </tbody>\n",
       "</table>\n",
       "</div>"
      ],
      "text/plain": [
       "       emp_no emp_title_id  birth_date first_name last_name sex   hire_date  \\\n",
       "42305  499942        e0004  1963-01-10      April  Foolsday   F  1997-02-10   \n",
       "\n",
       "       emp_no  salary title_id             title  \n",
       "42305  499942   40000    e0004  Technique Leader  "
      ]
     },
     "execution_count": 8,
     "metadata": {},
     "output_type": "execute_result"
    }
   ],
   "source": [
    "# Search and view records on ID number 499942\n",
    "salary.query('emp_no==499942')"
   ]
  }
 ],
 "metadata": {
  "kernelspec": {
   "display_name": "Python 3.6.10 64-bit ('PythonData': conda)",
   "language": "python",
   "name": "python361064bitpythondatacondaa7edf1711d444c1ba5496cfbae192996"
  },
  "language_info": {
   "codemirror_mode": {
    "name": "ipython",
    "version": 3
   },
   "file_extension": ".py",
   "mimetype": "text/x-python",
   "name": "python",
   "nbconvert_exporter": "python",
   "pygments_lexer": "ipython3",
   "version": "3.6.10"
  }
 },
 "nbformat": 4,
 "nbformat_minor": 4
}
